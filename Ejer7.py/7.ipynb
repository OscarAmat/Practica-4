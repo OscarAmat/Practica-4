{
 "cells": [
  {
   "cell_type": "code",
   "execution_count": 24,
   "metadata": {},
   "outputs": [
    {
     "ename": "OperationalError",
     "evalue": "near \")\": syntax error",
     "output_type": "error",
     "traceback": [
      "\u001b[0;31m---------------------------------------------------------------------------\u001b[0m",
      "\u001b[0;31mOperationalError\u001b[0m                          Traceback (most recent call last)",
      "Cell \u001b[0;32mIn[24], line 24\u001b[0m\n\u001b[1;32m     20\u001b[0m \u001b[38;5;28;01mwith\u001b[39;00m sqlite3\u001b[38;5;241m.\u001b[39mconnect(\u001b[38;5;124m'\u001b[39m\u001b[38;5;124mejemplo.db\u001b[39m\u001b[38;5;124m'\u001b[39m) \u001b[38;5;28;01mas\u001b[39;00m conexion:\n\u001b[1;32m     22\u001b[0m     cursor \u001b[38;5;241m=\u001b[39m conexion\u001b[38;5;241m.\u001b[39mcursor()\n\u001b[0;32m---> 24\u001b[0m     \u001b[43mcursor\u001b[49m\u001b[38;5;241;43m.\u001b[39;49m\u001b[43mexecute\u001b[49m\u001b[43m(\u001b[49m\u001b[43msentencia\u001b[49m\u001b[43m)\u001b[49m\n\u001b[1;32m     26\u001b[0m     conexion\u001b[38;5;241m.\u001b[39mcommit()\n",
      "\u001b[0;31mOperationalError\u001b[0m: near \")\": syntax error"
     ]
    }
   ],
   "source": [
    "import requests\n",
    "url='https://api.apis.net.pe/v1/tipo-cambio-sunat?month=1&year=2024'\n",
    "response=requests.get(url)\n",
    "\n",
    "\n",
    "data = response.json()\n",
    "\n",
    "data\n",
    "\n",
    "import sqlite3\n",
    "\n",
    "sentencia = \"\"\"\n",
    "CREATE TABLE IF NOT EXISTS sunat_info(\n",
    "    compra INTEGER,\n",
    "    venta INTERG, \n",
    "    ORIGEN VARCHAR(100),\n",
    "    MONEDA VARCHAR(100),\n",
    "    );\n",
    "\"\"\"\n",
    "with sqlite3.connect('ejemplo.db') as conexion:\n",
    "  \n",
    "    cursor = conexion.cursor()\n",
    "\n",
    "    cursor.execute(sentencia)\n",
    "\n",
    "    conexion.commit()\n",
    "\n"
   ]
  }
 ],
 "metadata": {
  "kernelspec": {
   "display_name": "Python 3",
   "language": "python",
   "name": "python3"
  },
  "language_info": {
   "codemirror_mode": {
    "name": "ipython",
    "version": 3
   },
   "file_extension": ".py",
   "mimetype": "text/x-python",
   "name": "python",
   "nbconvert_exporter": "python",
   "pygments_lexer": "ipython3",
   "version": "3.10.13"
  }
 },
 "nbformat": 4,
 "nbformat_minor": 2
}
