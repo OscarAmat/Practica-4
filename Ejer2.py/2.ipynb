{
 "cells": [
  {
   "cell_type": "code",
   "execution_count": 2,
   "metadata": {},
   "outputs": [
    {
     "name": "stdout",
     "output_type": "stream",
     "text": [
      "    ___       ___       ___       ___       ___       ___   \n",
      "   /\\  \\     /\\  \\     /\\  \\     /\\  \\     /\\  \\     /\\  \\  \n",
      "  /::\\  \\   /::\\  \\   /::\\  \\   /::\\  \\   _\\:\\  \\   /::\\  \\ \n",
      " /:/\\:\\__\\ /::\\:\\__\\ /::\\:\\__\\ /::\\:\\__\\ /::::\\__\\ /::\\:\\__\\\n",
      " \\:\\ \\/__/ \\/\\::/  / \\:\\::/  / \\:\\:\\/  / \\::;;/__/ \\/\\::/  /\n",
      "  \\:\\__\\     /:/  /   \\::/  /   \\:\\/  /   \\:\\__\\     /:/  / \n",
      "   \\/__/     \\/__/     \\/__/     \\/__/     \\/__/     \\/__/  \n",
      "    ___       ___       ___       ___       ___       ___       ___   \n",
      "   /\\  \\     /\\  \\     /\\  \\     /\\  \\     /\\__\\     /\\  \\     /\\  \\  \n",
      "  /::\\  \\   _\\:\\  \\   /::\\  \\   /::\\  \\   /:| _|_    \\:\\  \\   /::\\  \\ \n",
      " /:/\\:\\__\\ /\\/::\\__\\ /:/\\:\\__\\ /::\\:\\__\\ /::|/\\__\\   /::\\__\\ /::\\:\\__\\\n",
      " \\:\\:\\/__/ \\::/\\/__/ \\:\\:\\/__/ \\/\\::/  / \\/|::/  /  /:/\\/__/ \\:\\:\\/  /\n",
      "  \\::/  /   \\:\\__\\    \\::/  /    /:/  /    |:/  /   \\/__/     \\:\\/  / \n",
      "   \\/__/     \\/__/     \\/__/     \\/__/     \\/__/               \\/__/  \n",
      "\n"
     ]
    }
   ],
   "source": [
    "from pyfiglet import Figlet\n",
    "import random\n",
    "\n",
    "def seleccionar_fuente():\n",
    "    figlet = Figlet()\n",
    "    fuentes_disponibles = figlet.getFonts()\n",
    "\n",
    "   \n",
    "    fuente_seleccionada = input(\"Ingrese el nombre de la fuente (deje en blanco para aleatoria): \")\n",
    "    if not fuente_seleccionada:\n",
    "        fuente_seleccionada = random.choice(fuentes_disponibles)\n",
    "\n",
    "    return fuente_seleccionada\n",
    "\n",
    "def solicitar_texto():\n",
    "    return input(\"Ingrese el texto que desea imprimir: \")\n",
    "\n",
    "def imprimir_texto(fuente, texto):\n",
    "    figlet = Figlet(font=fuente)\n",
    "    print(figlet.renderText(texto))\n",
    "\n",
    "def main():\n",
    "    fuente = seleccionar_fuente()\n",
    "    texto = solicitar_texto()\n",
    "    imprimir_texto(fuente, texto)\n",
    "\n",
    "if __name__ == \"__main__\":\n",
    "    main()"
   ]
  }
 ],
 "metadata": {
  "kernelspec": {
   "display_name": "Python 3",
   "language": "python",
   "name": "python3"
  },
  "language_info": {
   "codemirror_mode": {
    "name": "ipython",
    "version": 3
   },
   "file_extension": ".py",
   "mimetype": "text/x-python",
   "name": "python",
   "nbconvert_exporter": "python",
   "pygments_lexer": "ipython3",
   "version": "3.10.13"
  }
 },
 "nbformat": 4,
 "nbformat_minor": 2
}
