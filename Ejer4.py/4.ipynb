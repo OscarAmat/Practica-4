{
 "cells": [
  {
   "cell_type": "code",
   "execution_count": 1,
   "metadata": {},
   "outputs": [
    {
     "name": "stdout",
     "output_type": "stream",
     "text": [
      "El precio actual de Bitcoin es: 51573.9073 USD\n"
     ]
    },
    {
     "name": "stdout",
     "output_type": "stream",
     "text": [
      "Datos almacenados en el archivo: bitcon2\n"
     ]
    }
   ],
   "source": [
    "import requests\n",
    "from datetime import datetime\n",
    "\n",
    "def obtener_precio_bitcoin():\n",
    "    try:\n",
    "        response = requests.get(\"https://api.coindesk.com/v1/bpi/currentprice.json\")\n",
    "        response.raise_for_status()\n",
    "        data = response.json()\n",
    "        return data[\"bpi\"][\"USD\"][\"rate_float\"]\n",
    "    except requests.RequestException as e:\n",
    "        print(f\"Error al obtener el precio de Bitcoin: {e}\")\n",
    "        return None\n",
    "\n",
    "def almacenar_datos_en_archivo(precio, archivo):\n",
    "    timestamp = datetime.now().strftime(\"%Y-%m-%d %H:%M:%S\")\n",
    "    with open(archivo, 'a') as file:\n",
    "        file.write(f\"{timestamp}, {precio:.4f} USD\\n\")\n",
    "\n",
    "def main():\n",
    "    precio_bitcoin = obtener_precio_bitcoin()\n",
    "\n",
    "    if precio_bitcoin is not None:\n",
    "        print(f\"El precio actual de Bitcoin es: {precio_bitcoin:.4f} USD\")\n",
    "\n",
    "        \n",
    "        nombre_archivo = input(\"Ingrese el nombre del archivo para almacenar los datos: \")\n",
    "\n",
    "       \n",
    "        almacenar_datos_en_archivo(precio_bitcoin, nombre_archivo)\n",
    "        print(f\"Datos almacenados en el archivo: {nombre_archivo}\")\n",
    "\n",
    "if __name__ == \"__main__\":\n",
    "    main()\n",
    "\n"
   ]
  }
 ],
 "metadata": {
  "kernelspec": {
   "display_name": "Python 3",
   "language": "python",
   "name": "python3"
  },
  "language_info": {
   "codemirror_mode": {
    "name": "ipython",
    "version": 3
   },
   "file_extension": ".py",
   "mimetype": "text/x-python",
   "name": "python",
   "nbconvert_exporter": "python",
   "pygments_lexer": "ipython3",
   "version": "3.10.13"
  }
 },
 "nbformat": 4,
 "nbformat_minor": 2
}
