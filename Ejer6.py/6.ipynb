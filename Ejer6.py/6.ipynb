{
 "cells": [
  {
   "cell_type": "code",
   "execution_count": 9,
   "metadata": {},
   "outputs": [
    {
     "name": "stdout",
     "output_type": "stream",
     "text": [
      "Cantidad de líneas del código: 36\n"
     ]
    }
   ],
   "source": [
    "import re\n",
    "\n",
    "def contar_lineas(archivo):\n",
    "    try:\n",
    "        with open(archivo, 'r') as file:\n",
    "            lineas = file.readlines()\n",
    "            lineas_codigo = [linea for linea in lineas if not re.match(r'[#$%&]', linea)]\n",
    "            return len(lineas_codigo)\n",
    "    except FileNotFoundError:\n",
    "        raise FileNotFoundError(f'No se encontro el archivo')\n",
    "    except Exception as e:\n",
    "        raise Exception(f'Ocurrió un error: {e}')\n",
    "\n",
    "def obtener_archivo():\n",
    "    while True:\n",
    "        ruta_archivo = input(\"Ingrese la ruta del archivo .py: \")\n",
    "        if ruta_archivo.endswith('.py'):\n",
    "            return ruta_archivo\n",
    "        else:\n",
    "            print(\" Inténtelo de nuevo.\")\n",
    "\n",
    "def main():\n",
    "    try:\n",
    "        ruta_archivo = obtener_archivo()\n",
    "        cantidad_lineas_codigo = contar_lineas(ruta_archivo)\n",
    "        print(f'Cantidad de líneas del código: {cantidad_lineas_codigo}')\n",
    "    except FileNotFoundError as e:\n",
    "        print(e)\n",
    "    except Exception as e:\n",
    "        print(e)\n",
    "\n",
    "if __name__ == \"__main__\":\n",
    "    main()"
   ]
  }
 ],
 "metadata": {
  "kernelspec": {
   "display_name": "Python 3",
   "language": "python",
   "name": "python3"
  },
  "language_info": {
   "codemirror_mode": {
    "name": "ipython",
    "version": 3
   },
   "file_extension": ".py",
   "mimetype": "text/x-python",
   "name": "python",
   "nbconvert_exporter": "python",
   "pygments_lexer": "ipython3",
   "version": "3.10.13"
  }
 },
 "nbformat": 4,
 "nbformat_minor": 2
}
