{
 "cells": [
  {
   "cell_type": "code",
   "execution_count": 2,
   "metadata": {},
   "outputs": [],
   "source": [
    "import requests\n",
    "\n",
    "url = 'https://images.unsplash.com/photo-1546527868-ccb7ee7dfa6a?q=80&w=2070&auto=format&fit=crop&ixlib=rb-4.0.3&ixid=M3wxMjA3fDB8MHxwaG90by1wYWdlfHx8fGVufDB8fHx8fA%3D%3D'\n",
    "headers = {'User-Agent': 'Mozilla/5.0 (Windows NT 10.0; Win64; x64) AppleWebKit/537.36 (KHTML, like Gecko) Chrome/117.0.0.0 Safari/537.36'}\n",
    "\n",
    "response = requests.get(url, headers=headers)\n",
    "\n",
    "with open('perrito.jpg', 'wb') as f:\n",
    "    f.write(response.content)\n",
    "    pass"
   ]
  },
  {
   "cell_type": "code",
   "execution_count": 3,
   "metadata": {},
   "outputs": [
    {
     "name": "stdout",
     "output_type": "stream",
     "text": [
      "Imagen almacenada como 'perrito.zip'.\n"
     ]
    }
   ],
   "source": [
    "import zipfile\n",
    "\n",
    "def zippear_imagen(nombre_imagen, nombre_zip):\n",
    "    with zipfile.ZipFile(nombre_zip, \"w\") as zip_file:\n",
    "        zip_file.write(nombre_imagen)\n",
    "\n",
    "    print(f\"Imagen almacenada como '{nombre_zip}'.\")\n",
    "\n",
    "\n",
    "imagen_descargada = \"perrito.jpg\"\n",
    "\n",
    "\n",
    "nombre_zip = \"perrito.zip\"\n",
    "\n",
    "zippear_imagen(imagen_descargada, nombre_zip)"
   ]
  },
  {
   "cell_type": "code",
   "execution_count": 4,
   "metadata": {},
   "outputs": [
    {
     "ename": "NameError",
     "evalue": "name 'os' is not defined",
     "output_type": "error",
     "traceback": [
      "\u001b[0;31m---------------------------------------------------------------------------\u001b[0m",
      "\u001b[0;31mNameError\u001b[0m                                 Traceback (most recent call last)",
      "Cell \u001b[0;32mIn[4], line 3\u001b[0m\n\u001b[1;32m      1\u001b[0m \u001b[38;5;28;01mimport\u001b[39;00m \u001b[38;5;21;01mzipfile\u001b[39;00m\n\u001b[0;32m----> 3\u001b[0m \u001b[38;5;28;01mif\u001b[39;00m \u001b[38;5;129;01mnot\u001b[39;00m \u001b[43mos\u001b[49m\u001b[38;5;241m.\u001b[39mpath\u001b[38;5;241m.\u001b[39misdir(\u001b[38;5;124m'\u001b[39m\u001b[38;5;124m./unzip\u001b[39m\u001b[38;5;124m'\u001b[39m): \n\u001b[1;32m      4\u001b[0m     os\u001b[38;5;241m.\u001b[39mmkdir(\u001b[38;5;124m'\u001b[39m\u001b[38;5;124m./unzip\u001b[39m\u001b[38;5;124m'\u001b[39m) \n\u001b[1;32m      7\u001b[0m \u001b[38;5;66;03m# extración de archivos\u001b[39;00m\n",
      "\u001b[0;31mNameError\u001b[0m: name 'os' is not defined"
     ]
    }
   ],
   "source": [
    "import zipfile\n",
    "\n",
    "if not os.path.isdir('./unzip'): \n",
    "    os.mkdir('./unzip') \n",
    "\n",
    "\n",
    "\n",
    "with zipfile.ZipFile('/workspaces/Practica-4/Ejer3.py/perrito.zip', 'r') as zip_ref:\n",
    "    zip_ref.extractall(path='./unzip')"
   ]
  }
 ],
 "metadata": {
  "kernelspec": {
   "display_name": "Python 3",
   "language": "python",
   "name": "python3"
  },
  "language_info": {
   "codemirror_mode": {
    "name": "ipython",
    "version": 3
   },
   "file_extension": ".py",
   "mimetype": "text/x-python",
   "name": "python",
   "nbconvert_exporter": "python",
   "pygments_lexer": "ipython3",
   "version": "3.10.13"
  }
 },
 "nbformat": 4,
 "nbformat_minor": 2
}
